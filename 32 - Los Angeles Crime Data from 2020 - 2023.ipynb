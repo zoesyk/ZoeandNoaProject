{
 "cells": [
  {
   "cell_type": "markdown",
   "id": "71247d2d-6cf1-43a1-a503-f6d579e3052c",
   "metadata": {},
   "source": [
    "---\n",
    "---"
   ]
  },
  {
   "cell_type": "markdown",
   "id": "fd068ebf-9834-4e25-a69a-01ceef4ac675",
   "metadata": {},
   "source": [
    "<h1 style=\"background-color:#F0F8FF; color:#000080; text-align:center; font-size:50px; font-family: serif; font-weight:bold; text-decoration: none;\">Los Angeles Crime Data from 2020 - 2023<br>DA Project 32</h1>"
   ]
  },
  {
   "cell_type": "markdown",
   "id": "da2d5171-374b-4d3c-bb71-6fdfc2218ec1",
   "metadata": {},
   "source": [
    "---\n",
    "---"
   ]
  },
  {
   "cell_type": "markdown",
   "id": "881c4e3b-393d-447b-b4d4-65e4c5943ffc",
   "metadata": {},
   "source": [
    "### Name of students:\n",
    "Zoe Sehayik<br>\n",
    "Noa Hartman<br>\n",
    "Shlomi Badichi<br>"
   ]
  },
  {
   "cell_type": "markdown",
   "id": "95a571e0-c812-496d-9ed4-fbb4241361dc",
   "metadata": {},
   "source": [
    "---"
   ]
  },
  {
   "cell_type": "markdown",
   "id": "1ca6b0d8-800d-4035-b4c3-7b9acc6d5a6c",
   "metadata": {},
   "source": [
    "<div>\n",
    "<img src= \"https://github.com/zoesyk/ZoeandNoaProject/blob/main/Crime-scene2.jpg?raw=true\"\n",
    "width=\"800\"/>\n",
    "</div>"
   ]
  },
  {
   "cell_type": "markdown",
   "id": "374cd060-eba2-465e-a708-a87079bc3e3a",
   "metadata": {
    "jp-MarkdownHeadingCollapsed": true
   },
   "source": [
    "<div dir=\"rtl\">\n",
    "<font size=\"5\">רקע על הקובץ נתונים:</font>\n",
    "<div dir=\"rtl\">    \n",
    "<font size=\"4\"> מערך הנתונים של \"Los Angeles Crime Data\" מציע מבט מקיף על פעילויות פליליות שדווחו בעיר לוס אנג'לס משנת 2020 ועד 2023."
   ]
  },
  {
   "cell_type": "markdown",
   "id": "73abad1d-6d17-455d-bc25-43b60fa1b16c",
   "metadata": {},
   "source": [
    "<div dir=\"rtl\">\n",
    "<font size=\"5\">קישור לקובץ נתונים:</font>\n",
    " \n",
    "<font size=\"4\">https://www.kaggle.com/datasets/anoopjohny/los-angeles-crime-data-from-2020-to-present/data</font>"
   ]
  },
  {
   "cell_type": "markdown",
   "id": "6a3dcb2c-0b0b-48d2-b8b7-80e93eecc12f",
   "metadata": {},
   "source": [
    "---"
   ]
  },
  {
   "cell_type": "markdown",
   "id": "00cf8f57-5d0c-4023-8665-4351201ea769",
   "metadata": {},
   "source": [
    "## <span style=\"font-size:1.5em;\"><span style=\"background-color:#F0F8FF\">*Libraries*</span></span>"
   ]
  },
  {
   "cell_type": "code",
   "execution_count": 4,
   "id": "a73306f9-3010-45fe-b93a-aaf54488a3c1",
   "metadata": {
    "tags": []
   },
   "outputs": [
    {
     "data": {
      "text/plain": [
       "'C:\\\\Users\\\\ze22s\\\\OneDrive\\\\שולחן העבודה\\\\אוניברסיטת אריאל\\\\קורס מבוא לניתוח נתונים\\\\פרוייקט\\\\חדש'"
      ]
     },
     "execution_count": 4,
     "metadata": {},
     "output_type": "execute_result"
    }
   ],
   "source": [
    "import pandas as pd\n",
    "import numpy as np\n",
    "import matplotlib.pyplot as plt\n",
    "import seaborn as sns\n",
    "import os\n",
    "from IPython.display import display, HTML\n",
    "os.getcwd()"
   ]
  },
  {
   "cell_type": "markdown",
   "id": "4799b67e-461d-4480-aebe-ca024781f169",
   "metadata": {},
   "source": [
    "---"
   ]
  },
  {
   "cell_type": "markdown",
   "id": "1857ed2c-5405-4049-9f40-6ae5b1080a59",
   "metadata": {
    "tags": []
   },
   "source": [
    "## <span style=\"font-size:1.5em;\"><span style=\"background-color:#F0F8FF\">*Splitting and Joining the Data*</span></span>"
   ]
  },
  {
   "cell_type": "markdown",
   "id": "d3c0a1d4-cf47-4c47-a188-0ae3c20b9125",
   "metadata": {
    "tags": []
   },
   "source": [
    "original_file = r\"C:\\Users\\ze22s\\OneDrive\\שולחן העבודה\\אוניברסיטת אריאל\\קורס מבוא לניתוח נתונים\\פרוייקט\\חדש\\Crime_Data_from_2020_to_Present.csv\"\n",
    "pd.read_csv(original_file)"
   ]
  },
  {
   "cell_type": "markdown",
   "id": "498a304c-c747-4795-90bb-c588c523c95e",
   "metadata": {},
   "source": [
    "<div dir=\"rtl\">\n",
    "<font size=\"4\">פיצול הקובץ וקריאתו:</font>"
   ]
  },
  {
   "cell_type": "markdown",
   "id": "169fc470-7098-4ba6-8e1b-7b3b056e4e54",
   "metadata": {
    "tags": []
   },
   "source": [
    "crime_split = r'C:\\Users\\ze22s\\OneDrive\\שולחן העבודה\\אוניברסיטת אריאל\\קורס מבוא לניתוח נתונים\\פרוייקט\\חדש\\Crime_Data_from_2020_to_Present.csv'\n",
    "\n",
    "chunk_size = 100000 \n",
    "\n",
    "for i, chunk in enumerate(pd.read_csv(crime_split, chunksize=chunk_size)):\n",
    "    chunk.to_csv(f'C:\\\\Users\\\\ze22s\\\\OneDrive\\\\שולחן העבודה\\\\אוניברסיטת אריאל\\\\קורס מבוא לניתוח נתונים\\\\פרוייקט\\\\חדש\\\\Crime_Data_from_2020_to_Present{i}.csv', index=False)\n"
   ]
  },
  {
   "cell_type": "code",
   "execution_count": 2,
   "id": "f5e03c72-1f1e-41c4-92ab-0c7bfe0b6d8a",
   "metadata": {
    "tags": []
   },
   "outputs": [
    {
     "ename": "ParserError",
     "evalue": "Error tokenizing data. C error: Expected 1 fields in line 40, saw 21\n",
     "output_type": "error",
     "traceback": [
      "\u001b[1;31m---------------------------------------------------------------------------\u001b[0m",
      "\u001b[1;31mParserError\u001b[0m                               Traceback (most recent call last)",
      "Cell \u001b[1;32mIn[2], line 7\u001b[0m\n\u001b[0;32m      3\u001b[0m crime_df \u001b[38;5;241m=\u001b[39m pd\u001b[38;5;241m.\u001b[39mDataFrame()\n\u001b[0;32m      6\u001b[0m \u001b[38;5;28;01mfor\u001b[39;00m link \u001b[38;5;129;01min\u001b[39;00m csv_files:\n\u001b[1;32m----> 7\u001b[0m     df \u001b[38;5;241m=\u001b[39m \u001b[43mpd\u001b[49m\u001b[38;5;241;43m.\u001b[39;49m\u001b[43mread_csv\u001b[49m\u001b[43m(\u001b[49m\u001b[43mlink\u001b[49m\u001b[43m)\u001b[49m\n\u001b[0;32m      8\u001b[0m     crime_df \u001b[38;5;241m=\u001b[39m pd\u001b[38;5;241m.\u001b[39mconcat([crime_df, df], ignore_index\u001b[38;5;241m=\u001b[39m\u001b[38;5;28;01mTrue\u001b[39;00m)\n",
      "File \u001b[1;32m~\\AppData\\Local\\Programs\\Python\\Python312\\Lib\\site-packages\\pandas\\io\\parsers\\readers.py:1026\u001b[0m, in \u001b[0;36mread_csv\u001b[1;34m(filepath_or_buffer, sep, delimiter, header, names, index_col, usecols, dtype, engine, converters, true_values, false_values, skipinitialspace, skiprows, skipfooter, nrows, na_values, keep_default_na, na_filter, verbose, skip_blank_lines, parse_dates, infer_datetime_format, keep_date_col, date_parser, date_format, dayfirst, cache_dates, iterator, chunksize, compression, thousands, decimal, lineterminator, quotechar, quoting, doublequote, escapechar, comment, encoding, encoding_errors, dialect, on_bad_lines, delim_whitespace, low_memory, memory_map, float_precision, storage_options, dtype_backend)\u001b[0m\n\u001b[0;32m   1013\u001b[0m kwds_defaults \u001b[38;5;241m=\u001b[39m _refine_defaults_read(\n\u001b[0;32m   1014\u001b[0m     dialect,\n\u001b[0;32m   1015\u001b[0m     delimiter,\n\u001b[1;32m   (...)\u001b[0m\n\u001b[0;32m   1022\u001b[0m     dtype_backend\u001b[38;5;241m=\u001b[39mdtype_backend,\n\u001b[0;32m   1023\u001b[0m )\n\u001b[0;32m   1024\u001b[0m kwds\u001b[38;5;241m.\u001b[39mupdate(kwds_defaults)\n\u001b[1;32m-> 1026\u001b[0m \u001b[38;5;28;01mreturn\u001b[39;00m \u001b[43m_read\u001b[49m\u001b[43m(\u001b[49m\u001b[43mfilepath_or_buffer\u001b[49m\u001b[43m,\u001b[49m\u001b[43m \u001b[49m\u001b[43mkwds\u001b[49m\u001b[43m)\u001b[49m\n",
      "File \u001b[1;32m~\\AppData\\Local\\Programs\\Python\\Python312\\Lib\\site-packages\\pandas\\io\\parsers\\readers.py:626\u001b[0m, in \u001b[0;36m_read\u001b[1;34m(filepath_or_buffer, kwds)\u001b[0m\n\u001b[0;32m    623\u001b[0m     \u001b[38;5;28;01mreturn\u001b[39;00m parser\n\u001b[0;32m    625\u001b[0m \u001b[38;5;28;01mwith\u001b[39;00m parser:\n\u001b[1;32m--> 626\u001b[0m     \u001b[38;5;28;01mreturn\u001b[39;00m \u001b[43mparser\u001b[49m\u001b[38;5;241;43m.\u001b[39;49m\u001b[43mread\u001b[49m\u001b[43m(\u001b[49m\u001b[43mnrows\u001b[49m\u001b[43m)\u001b[49m\n",
      "File \u001b[1;32m~\\AppData\\Local\\Programs\\Python\\Python312\\Lib\\site-packages\\pandas\\io\\parsers\\readers.py:1923\u001b[0m, in \u001b[0;36mTextFileReader.read\u001b[1;34m(self, nrows)\u001b[0m\n\u001b[0;32m   1916\u001b[0m nrows \u001b[38;5;241m=\u001b[39m validate_integer(\u001b[38;5;124m\"\u001b[39m\u001b[38;5;124mnrows\u001b[39m\u001b[38;5;124m\"\u001b[39m, nrows)\n\u001b[0;32m   1917\u001b[0m \u001b[38;5;28;01mtry\u001b[39;00m:\n\u001b[0;32m   1918\u001b[0m     \u001b[38;5;66;03m# error: \"ParserBase\" has no attribute \"read\"\u001b[39;00m\n\u001b[0;32m   1919\u001b[0m     (\n\u001b[0;32m   1920\u001b[0m         index,\n\u001b[0;32m   1921\u001b[0m         columns,\n\u001b[0;32m   1922\u001b[0m         col_dict,\n\u001b[1;32m-> 1923\u001b[0m     ) \u001b[38;5;241m=\u001b[39m \u001b[38;5;28;43mself\u001b[39;49m\u001b[38;5;241;43m.\u001b[39;49m\u001b[43m_engine\u001b[49m\u001b[38;5;241;43m.\u001b[39;49m\u001b[43mread\u001b[49m\u001b[43m(\u001b[49m\u001b[43m  \u001b[49m\u001b[38;5;66;43;03m# type: ignore[attr-defined]\u001b[39;49;00m\n\u001b[0;32m   1924\u001b[0m \u001b[43m        \u001b[49m\u001b[43mnrows\u001b[49m\n\u001b[0;32m   1925\u001b[0m \u001b[43m    \u001b[49m\u001b[43m)\u001b[49m\n\u001b[0;32m   1926\u001b[0m \u001b[38;5;28;01mexcept\u001b[39;00m \u001b[38;5;167;01mException\u001b[39;00m:\n\u001b[0;32m   1927\u001b[0m     \u001b[38;5;28mself\u001b[39m\u001b[38;5;241m.\u001b[39mclose()\n",
      "File \u001b[1;32m~\\AppData\\Local\\Programs\\Python\\Python312\\Lib\\site-packages\\pandas\\io\\parsers\\c_parser_wrapper.py:234\u001b[0m, in \u001b[0;36mCParserWrapper.read\u001b[1;34m(self, nrows)\u001b[0m\n\u001b[0;32m    232\u001b[0m \u001b[38;5;28;01mtry\u001b[39;00m:\n\u001b[0;32m    233\u001b[0m     \u001b[38;5;28;01mif\u001b[39;00m \u001b[38;5;28mself\u001b[39m\u001b[38;5;241m.\u001b[39mlow_memory:\n\u001b[1;32m--> 234\u001b[0m         chunks \u001b[38;5;241m=\u001b[39m \u001b[38;5;28;43mself\u001b[39;49m\u001b[38;5;241;43m.\u001b[39;49m\u001b[43m_reader\u001b[49m\u001b[38;5;241;43m.\u001b[39;49m\u001b[43mread_low_memory\u001b[49m\u001b[43m(\u001b[49m\u001b[43mnrows\u001b[49m\u001b[43m)\u001b[49m\n\u001b[0;32m    235\u001b[0m         \u001b[38;5;66;03m# destructive to chunks\u001b[39;00m\n\u001b[0;32m    236\u001b[0m         data \u001b[38;5;241m=\u001b[39m _concatenate_chunks(chunks)\n",
      "File \u001b[1;32mparsers.pyx:838\u001b[0m, in \u001b[0;36mpandas._libs.parsers.TextReader.read_low_memory\u001b[1;34m()\u001b[0m\n",
      "File \u001b[1;32mparsers.pyx:905\u001b[0m, in \u001b[0;36mpandas._libs.parsers.TextReader._read_rows\u001b[1;34m()\u001b[0m\n",
      "File \u001b[1;32mparsers.pyx:874\u001b[0m, in \u001b[0;36mpandas._libs.parsers.TextReader._tokenize_rows\u001b[1;34m()\u001b[0m\n",
      "File \u001b[1;32mparsers.pyx:891\u001b[0m, in \u001b[0;36mpandas._libs.parsers.TextReader._check_tokenize_status\u001b[1;34m()\u001b[0m\n",
      "File \u001b[1;32mparsers.pyx:2061\u001b[0m, in \u001b[0;36mpandas._libs.parsers.raise_parser_error\u001b[1;34m()\u001b[0m\n",
      "\u001b[1;31mParserError\u001b[0m: Error tokenizing data. C error: Expected 1 fields in line 40, saw 21\n"
     ]
    }
   ],
   "source": [
    "csv_files = [r\"https://github.com/zoesyk/ZoeandNoaProject/blob/main/Crime_Data_from_2020_to_Present0.csv\",r\"https://github.com/zoesyk/ZoeandNoaProject/blob/main/Crime_Data_from_2020_to_Present1.csv\",r\"https://github.com/zoesyk/ZoeandNoaProject/blob/main/Crime_Data_from_2020_to_Present2.csv\", r\"https://github.com/zoesyk/ZoeandNoaProject/blob/main/Crime_Data_from_2020_to_Present3.csv\",r\"https://github.com/zoesyk/ZoeandNoaProject/blob/main/Crime_Data_from_2020_to_Present4.csv\",r\"https://github.com/zoesyk/ZoeandNoaProject/blob/main/Crime_Data_from_2020_to_Present5.csv\",r\"https://github.com/zoesyk/ZoeandNoaProject/blob/main/Crime_Data_from_2020_to_Present6.csv\",r\"https://github.com/zoesyk/ZoeandNoaProject/blob/main/Crime_Data_from_2020_to_Present7.csv\",r\"https://github.com/zoesyk/ZoeandNoaProject/blob/main/Crime_Data_from_2020_to_Present8.csv\"]\n",
    "\n",
    "crime_df = pd.DataFrame()\n",
    "\n",
    "\n",
    "for link in csv_files:\n",
    "    df = pd.read_csv(link)\n",
    "    crime_df = pd.concat([crime_df, df], ignore_index=True)\n"
   ]
  },
  {
   "cell_type": "code",
   "execution_count": null,
   "id": "804cdf74-cf19-46a7-a547-1180287f922f",
   "metadata": {
    "tags": []
   },
   "outputs": [],
   "source": [
    "crime_df"
   ]
  },
  {
   "cell_type": "markdown",
   "id": "6dcb27be-7eee-48c6-a78c-b9c406c96b8c",
   "metadata": {},
   "source": [
    "---"
   ]
  },
  {
   "cell_type": "markdown",
   "id": "ba2f1656-70b9-4fa4-be64-f05a341667c4",
   "metadata": {},
   "source": [
    "## <span style=\"font-size:1.5em;\"><span style=\"background-color:#F0F8FF\">*Preliminary Analysis of the Data*</span></span>"
   ]
  },
  {
   "cell_type": "code",
   "execution_count": null,
   "id": "5d76b0d0-ace8-45da-a13a-7fbde06fdc78",
   "metadata": {
    "tags": []
   },
   "outputs": [],
   "source": [
    "crime_df.head()"
   ]
  },
  {
   "cell_type": "code",
   "execution_count": null,
   "id": "7b64fb0e-17a0-4986-8fb1-e0b4869746fb",
   "metadata": {
    "tags": []
   },
   "outputs": [],
   "source": [
    "crime_df.info()"
   ]
  },
  {
   "cell_type": "code",
   "execution_count": null,
   "id": "6444f962-c833-4933-aa91-42e43c27f1a8",
   "metadata": {
    "tags": []
   },
   "outputs": [],
   "source": [
    "crime_df.shape"
   ]
  },
  {
   "cell_type": "code",
   "execution_count": null,
   "id": "89a9a6ac-dd55-4204-afcb-cac1771c2df3",
   "metadata": {
    "tags": []
   },
   "outputs": [],
   "source": [
    "crime_df.columns"
   ]
  },
  {
   "cell_type": "code",
   "execution_count": null,
   "id": "82323417-f07f-4c12-a9d1-490c26fba62a",
   "metadata": {
    "tags": []
   },
   "outputs": [],
   "source": [
    "crime_df['Crm Cd'].unique()"
   ]
  },
  {
   "cell_type": "code",
   "execution_count": null,
   "id": "32596ed9-bdef-4306-a286-13801f75355a",
   "metadata": {
    "tags": []
   },
   "outputs": [],
   "source": [
    "crime_df['Crm Cd Desc'].unique()"
   ]
  },
  {
   "cell_type": "markdown",
   "id": "f4c83f22-ec3c-48b1-96e0-aa350798d66a",
   "metadata": {},
   "source": [
    "---"
   ]
  },
  {
   "cell_type": "markdown",
   "id": "f41d2c8d-b6ef-4487-aeb9-e23ae35a614f",
   "metadata": {},
   "source": [
    "## <span style=\"font-size:1.5em;\"><span style=\"background-color:#F0F8FF\"><font color=#000080>***Observations Presentation***</div></span></span>"
   ]
  },
  {
   "cell_type": "markdown",
   "id": "e4637f3c-cd9a-4ea6-921d-eb232ffc1d2b",
   "metadata": {},
   "source": [
    "### <span style=\"font-size:1.3em;\"><span style=\"background-color:#F0F8FF\">*Observation 1 - Age Groups*</span></span>"
   ]
  },
  {
   "cell_type": "code",
   "execution_count": null,
   "id": "63fb2621-75de-424f-95db-8f8c88c43eed",
   "metadata": {},
   "outputs": [],
   "source": [
    "crime_df['Vict Age'].unique()"
   ]
  },
  {
   "cell_type": "code",
   "execution_count": null,
   "id": "8ab63530-cda0-4027-a8dd-e86b6c460c4a",
   "metadata": {},
   "outputs": [],
   "source": [
    "plt.subplots(figsize=(15, 4))\n",
    "sns.countplot(x=crime_df['Vict Age'] , palette='Set3' )\n",
    "plt.xticks(rotation=90)\n",
    "plt.show()"
   ]
  },
  {
   "cell_type": "markdown",
   "id": "e353018a-7310-42d4-8ddc-6eaf7a1d63f2",
   "metadata": {},
   "source": [
    "<div dir=\"rtl\">\n",
    "<font size=\"3\">ניתן לראות שיש חריגה בגילאים, יש כמות גדולה מאוד של קורבנות שהגיל שלהם מסווג כאפס ולכן החלטנו להתחיל לנתח את הפילוח מכאן. </font>"
   ]
  },
  {
   "cell_type": "code",
   "execution_count": null,
   "id": "f38e2b0a-be41-4d19-9353-8b8b82a8c08c",
   "metadata": {},
   "outputs": [],
   "source": [
    "fig, ax = plt.subplots(1, 2, figsize=(8, 5))\n",
    "\n",
    "sns.boxplot(data=crime_df['Vict Age'], ax=ax[0])\n",
    "\n",
    "crime_df['Pie Age'] = crime_df['Vict Age'].apply(lambda x: 'Age 0' if x == 0 else 'Other Ages')\n",
    "age_pie_counts = crime_df['Pie Age'].value_counts()\n",
    "colors = ['#4682B4', 'lightblue']\n",
    "\n",
    "ax[1].pie(age_pie_counts, labels=age_pie_counts.index, autopct='%1.1f%%', startangle=140, colors=colors)\n",
    "\n",
    "fig.suptitle('Ages', fontsize=17)\n",
    "\n",
    "plt.tight_layout()\n",
    "plt.show()\n"
   ]
  },
  {
   "cell_type": "code",
   "execution_count": null,
   "id": "c715f791-220a-48cd-98d4-99e7559696b8",
   "metadata": {},
   "outputs": [],
   "source": [
    "Age_0_crime = crime_df[crime_df['Vict Age'] == 0]\n",
    "Age_0_crime.shape"
   ]
  },
  {
   "cell_type": "code",
   "execution_count": null,
   "id": "d6bc5dc4-b0fa-4ca8-8bdc-162a7788b521",
   "metadata": {},
   "outputs": [],
   "source": [
    "Age_0_crime['AREA NAME'].value_counts()"
   ]
  },
  {
   "cell_type": "code",
   "execution_count": null,
   "id": "5159bff9-b8d7-4e07-9895-7b0753d50278",
   "metadata": {},
   "outputs": [],
   "source": [
    "Age_0_crime['Vict Sex'].value_counts()"
   ]
  },
  {
   "cell_type": "code",
   "execution_count": null,
   "id": "319a6437-34d4-4e9d-bb59-615d546a8db1",
   "metadata": {},
   "outputs": [],
   "source": [
    "Age_0_crime['Vict Sex'].value_counts().sum()"
   ]
  },
  {
   "cell_type": "code",
   "execution_count": null,
   "id": "6796bbe9-d035-473b-adb9-009cb236ada7",
   "metadata": {},
   "outputs": [],
   "source": [
    "Age_0_crime[(Age_0_crime['Vict Sex'] == \"\") | (Age_0_crime['Vict Sex'].isna())].shape"
   ]
  },
  {
   "cell_type": "code",
   "execution_count": null,
   "id": "2672aabd-d750-448a-89f4-6b1e9e74dcfe",
   "metadata": {},
   "outputs": [],
   "source": [
    "Age_0_crime['Vict Descent'].value_counts().sum()"
   ]
  },
  {
   "cell_type": "code",
   "execution_count": null,
   "id": "e3dd514c-3a08-443d-b569-a5c8a0ad987f",
   "metadata": {},
   "outputs": [],
   "source": [
    "Age_0_crime[(Age_0_crime['Vict Descent'] == \"\") | (Age_0_crime['Vict Descent'].isna())].shape"
   ]
  },
  {
   "cell_type": "code",
   "execution_count": null,
   "id": "e57453a0-90e5-4f98-8b91-9e58f20f43d2",
   "metadata": {},
   "outputs": [],
   "source": [
    "Age_0_crime[['Crm Cd Desc']].value_counts()"
   ]
  },
  {
   "cell_type": "code",
   "execution_count": null,
   "id": "88647131-7b09-4e00-ab9b-c3fbba87f525",
   "metadata": {},
   "outputs": [],
   "source": [
    "crime_age0_count=Age_0_crime['Crm Cd Desc'].value_counts()\n",
    "crime_age0_df= crime_age0_count.reset_index()\n",
    "crime_age0_df.columns = ['Crm Cd Desc', 'Count']\n",
    "filtered_crime_age0_df = crime_age0_df[crime_age0_df['Count'] > 1974]\n",
    "crime_age0_list = filtered_crime_age0_df['Crm Cd Desc'].tolist()\n",
    "top_Age_0_crime = Age_0_crime[Age_0_crime['Crm Cd Desc'].isin(crime_age0_list)]\n",
    "filtered_crime_age0_df.head()"
   ]
  },
  {
   "cell_type": "code",
   "execution_count": null,
   "id": "dd43e9ad-a175-45e3-af90-37182676ec0c",
   "metadata": {},
   "outputs": [],
   "source": [
    "top_Age_crime_counts = top_Age_0_crime['Crm Cd Desc'].value_counts()\n",
    "sorted_Ages_crime = top_Age_crime_counts.index\n",
    "\n",
    "Age_0_crime_label = {'VEHICLE - STOLEN':'Stolen Vehicle',\n",
    " 'THEFT FROM MOTOR VEHICLE - PETTY ($950 & UNDER)': 'Theft From Vehicle' ,\n",
    " 'BURGLARY': 'Burglary',\n",
    " 'SHOPLIFTING - PETTY THEFT ($950 & UNDER)': 'Shoplifting Petty Theft',\n",
    " 'VANDALISM - FELONY ($400 & OVER, ALL CHURCH VANDALISMS)': 'Vandalism Felony',\n",
    " 'ROBBERY':'Robbery',\n",
    " 'THEFT PLAIN - PETTY ($950 & UNDER)': 'Petty Theft',\n",
    " 'THEFT-GRAND ($950.01 & OVER)EXCPT,GUNS,FOWL,LIVESTK,PROD': 'Grand Theft',\n",
    " 'VANDALISM - MISDEAMEANOR ($399 OR UNDER)': 'Vandalism Misdeameanor',\n",
    " 'TRESPASSING': 'Trespassing',\n",
    " 'EMBEZZLEMENT, GRAND THEFT ($950.01 & OVER)': 'Embezzlement',\n",
    " 'SHOPLIFTING-GRAND THEFT ($950.01 & OVER)': 'Shoplifting Grand Theft',\n",
    " 'OTHER MISCELLANEOUS CRIME': 'Other Miscellaneous Crime'}\n",
    "\n",
    "\n",
    "colors = ['#000080','#4169E1', '#1E90FF', '#00BFFF', '#87CEEB', '#87CEFA', '#B0E0E6', '#ADD8E6', '#F0F8FF']\n",
    "\n",
    "plt.figure(figsize=(10, 4))\n",
    "\n",
    "sns.countplot(data=top_Age_0_crime, x='Crm Cd Desc', palette=colors, order=sorted_Ages_crime)\n",
    "\n",
    "plt.xlabel('')\n",
    "plt.title('Age 0 Crime Distribution')\n",
    "\n",
    "new_labels = [Age_0_crime_label[item.get_text()] for item in plt.gca().get_xticklabels()]\n",
    "plt.gca().set_xticklabels(new_labels, rotation=75)\n",
    "\n",
    "plt.show()"
   ]
  },
  {
   "cell_type": "markdown",
   "id": "6bfbe045-f5d1-469a-88cd-48aa5fa5a453",
   "metadata": {},
   "source": [
    "<div dir=\"rtl\">\n",
    "<font size=\"3\">לאחר שניסינו לנתח את פילוג גילאי אפס ולא הצלחנו למצוא קשר בין הגורים השונים (מין, מגזר, פשעים, אזורים וכדומה..).</font>\n",
    "<div dir=\"rtl\">\n",
    "<font size=\"3\">החלטנו לנתח ולהעמיק בגילאים 1-100.</font>"
   ]
  },
  {
   "cell_type": "code",
   "execution_count": null,
   "id": "813d2999-c968-4b37-9e49-4c31a5aa04bc",
   "metadata": {},
   "outputs": [],
   "source": [
    "VEHICLE_STOLEN = crime_df[crime_df['Crm Cd Desc']=='VEHICLE - STOLEN']"
   ]
  },
  {
   "cell_type": "code",
   "execution_count": null,
   "id": "390de67c-d174-4197-a6f3-1877bce10557",
   "metadata": {},
   "outputs": [],
   "source": [
    "def func(pct, allvalues):\n",
    "    absolute = int(pct/100.*sum(allvalues))\n",
    "    if absolute == Age_0_crimes_counts.iloc[0]:\n",
    "        return f\"{pct:.1f}%\\nStolen Vehicle\"\n",
    "    else:\n",
    "        return ''\n",
    "\n",
    "VEHICLE_STOLEN_count = VEHICLE_STOLEN['Vict Age'].value_counts()\n",
    "labels = ['Age 0' if age == 0 else '' for age in VEHICLE_STOLEN_count.index]\n",
    "colors = sns.color_palette('Set3', len(labels))\n",
    "\n",
    "fig, axes = plt.subplots(1, 2, figsize=(12, 6))\n",
    "\n",
    "axes[0].pie(Age_0_crimes_counts, labels=None, autopct=lambda pct: func(pct, Age_0_crimes_counts), startangle=140)\n",
    "axes[0].set_title('Age 0 Crime Distribution')\n",
    "\n",
    "axes[1].pie(VEHICLE_STOLEN_count, labels=labels, colors=colors, autopct='%1.1f%%', startangle=140)\n",
    "axes[1].set_title('Stolen Vehicle Age Distribution')\n",
    "\n",
    "plt.show()"
   ]
  },
  {
   "cell_type": "markdown",
   "id": "d29227e1-dfd9-47c5-93df-7cb620ad1905",
   "metadata": {},
   "source": [
    "<div dir=\"rtl\">\n",
    "<font size=\"3\">בדקנו את התפלגות הפשעים בגילאי אפס, וראינו כי הפשע גניבת מכוניות הוא קרוב לחמישים אחוז.  </font>\n",
    "<div dir=\"rtl\">\n",
    "<font size=\"3\">בעקבות כך רצינו לראות את היחס בין כלל הגילאים לבין גיל האפס בגניבת מכוניות, ניתן לראות שגיל אפס מהווה 99% בגניבת רכב.</font>"
   ]
  },
  {
   "cell_type": "markdown",
   "id": "2a16e06a-2e1f-438d-80bf-ebfe6d0e041d",
   "metadata": {},
   "source": [
    "---"
   ]
  },
  {
   "cell_type": "markdown",
   "id": "01bbdc06-4ddc-41cd-969d-49688847010e",
   "metadata": {},
   "source": [
    "<div dir=\"rtl\">\n",
    "<font size=\"3\">לאחר שחקרנו את פילוח גיל האפס. </font>\n",
    "<div dir=\"rtl\">\n",
    "<font size=\"3\">כעת נתמקד בשאר הגילאים:</font>"
   ]
  },
  {
   "cell_type": "code",
   "execution_count": null,
   "id": "7e434c3c-3eb0-457a-81be-444f6c444f10",
   "metadata": {},
   "outputs": [],
   "source": [
    "crime_count=crime_df['Crm Cd Desc'].value_counts()\n",
    "crime_count_df= crime_count.reset_index()\n",
    "crime_count_df.columns = ['Crm Cd Desc', 'Count']\n",
    "filtered_crime_list = crime_count_df[crime_count_df['Count'] > 8000]\n",
    "crime_list = filtered_crime_list['Crm Cd Desc'].tolist()\n",
    "top_crime_df = crime_df[crime_df['Crm Cd Desc'].isin(crime_list)]"
   ]
  },
  {
   "cell_type": "code",
   "execution_count": null,
   "id": "a806b770-8d86-4758-8095-aab33b683b63",
   "metadata": {},
   "outputs": [],
   "source": [
    "top_crime_df['Ages'] = top_crime_df['Vict Age']\n",
    "top_crime_df['Ages'] = pd.to_numeric(top_crime_df['Ages'], errors='coerce')"
   ]
  },
  {
   "cell_type": "code",
   "execution_count": null,
   "id": "3a2b34a1-dc0d-4f9f-b51a-f53bd2e5daa4",
   "metadata": {},
   "outputs": [],
   "source": [
    "#'1 – 14', '15 - 24','25 – 54', '55 – 64', '65 and over': התחלנו את הפילוח מגיל 1 כדי לא נתייחס לחריגים\n",
    "top_crime_df['Age_Group'] = top_crime_df['Ages']\n",
    "bins = [0, 14, 24,54,64, float('inf')]\n",
    "labels = ['1 – 14', '15 - 24','25 – 54', '55 – 64', '65 and over']\n",
    "top_crime_df['Age_Group'] = pd.cut(top_crime_df['Ages'], bins=bins, labels=labels)\n",
    "top_crime_df[['Ages','Age_Group']].head()"
   ]
  },
  {
   "cell_type": "code",
   "execution_count": null,
   "id": "01bdf00f-baa0-40ef-993a-a1efc69c17f9",
   "metadata": {},
   "outputs": [],
   "source": [
    "top_crime_counts = top_crime_df['Age_Group'].value_counts()\n",
    "sorted_Ages = top_crime_counts.index\n",
    "\n",
    "colors = ['#000080','#4169E1', '#1E90FF', '#00BFFF', '#87CEEB', '#87CEFA', '#B0E0E6', '#ADD8E6', '#F0F8FF']\n",
    "\n",
    "plt.figure(figsize=(10, 4))\n",
    "\n",
    "sns.countplot(data=top_crime_df, x='Age_Group', order=sorted_Ages, palette=colors)\n",
    "\n",
    "plt.xlabel('')\n",
    "\n",
    "plt.title('Age Grops')\n",
    "\n",
    "plt.xticks(rotation=0)\n",
    "\n",
    "plt.show()"
   ]
  },
  {
   "cell_type": "code",
   "execution_count": null,
   "id": "0d56c859-b2fa-4038-9dec-496a8f016933",
   "metadata": {},
   "outputs": [],
   "source": [
    "crime_type_order = top_crime_df[top_crime_df['Ages']!= 0].groupby('Crm Cd Desc').size().reset_index(name='count')\n",
    "crime_type_order =crime_type_order.sort_values(by='count', ascending=False)\n",
    "crime_type_order.head()"
   ]
  },
  {
   "cell_type": "code",
   "execution_count": null,
   "id": "5e8502c0-2e04-41df-a907-4600f5cc9c08",
   "metadata": {},
   "outputs": [],
   "source": [
    "lst_top_crime  = crime_type_order['Crm Cd Desc'].head(4).tolist()\n",
    "top_3_crime =  top_crime_df[ top_crime_df['Crm Cd Desc'].isin(lst_top_crime )]\n",
    "top_3_crime['Crm Cd Desc'].unique()"
   ]
  },
  {
   "cell_type": "code",
   "execution_count": null,
   "id": "e7ccfbe7-194e-41a0-a157-6725424fdf46",
   "metadata": {},
   "outputs": [],
   "source": [
    "top_3_crime['Age_Group'].unique()"
   ]
  },
  {
   "cell_type": "code",
   "execution_count": null,
   "id": "773059e5-b3d9-470c-8ebd-b2fd8572db0d",
   "metadata": {},
   "outputs": [],
   "source": [
    "AREA_NAME_order =top_3_crime.groupby('AREA NAME').size().reset_index(name='count')\n",
    "AREA_NAME_order =AREA_NAME_order.sort_values(by='count', ascending=False)\n",
    "AREA_NAME_order.head(3)"
   ]
  },
  {
   "cell_type": "code",
   "execution_count": null,
   "id": "555c8b21-6c8e-4d39-a834-428c6984ebfb",
   "metadata": {},
   "outputs": [],
   "source": [
    "area_lst = AREA_NAME_order['AREA NAME'].head(3).tolist()\n",
    "top_crime_area =  top_3_crime[ top_3_crime['AREA NAME'].isin(area_lst)]\n",
    "top_crime_area['AREA NAME'].unique()"
   ]
  },
  {
   "cell_type": "code",
   "execution_count": null,
   "id": "d50340f2-a928-4662-b9d6-efe8498f3171",
   "metadata": {},
   "outputs": [],
   "source": [
    "top_crime_area['Crm Cd Desc'] = top_crime_area['Crm Cd Desc'].replace({'BURGLARY FROM VEHICLE': 'Vehicle Burglary','BATTERY - SIMPLE ASSAULT': 'Battery-Simple Assault','THEFT OF IDENTITY': 'Identity Theft','ASSAULT WITH DEADLY WEAPON, AGGRAVATED ASSAULT': 'Assault With Deadly Weapon'})      \n",
    "\n",
    "plt.figure(figsize=(8, 4))\n",
    "sns.histplot(data=top_crime_area[top_crime_area['AREA NAME'] == '77th Street'], x='Age_Group', hue='Crm Cd Desc', stat='percent', multiple='dodge', palette='Set3', shrink=0.8)\n",
    "plt.title('77th Street crime')\n",
    "plt.xlabel('')\n",
    "plt.xticks(rotation=45, ha='right')\n",
    "\n",
    "plt.figure(figsize=(8,4))\n",
    "sns.histplot(data=top_crime_area[top_crime_area['AREA NAME'] == 'Central'], x='Age_Group', hue='Crm Cd Desc', stat='percent', multiple='dodge', palette='Set3', shrink=0.8)\n",
    "plt.title('Central crime')\n",
    "plt.xlabel('')\n",
    "plt.xticks(rotation=45, ha='right')\n",
    "\n",
    "plt.figure(figsize=(8, 4))\n",
    "sns.histplot(data=top_crime_area[top_crime_area['AREA NAME'] == 'Southeast'], x='Age_Group', hue='Crm Cd Desc', stat='percent', multiple='dodge', palette='Set3', shrink=0.8)\n",
    "plt.title('Southeast crime')\n",
    "plt.xlabel('')\n",
    "plt.xticks(rotation=45, ha='right')\n",
    "\n",
    "plt.show()"
   ]
  },
  {
   "cell_type": "markdown",
   "id": "e19ce037-687b-4b07-ae98-654b398a30a0",
   "metadata": {},
   "source": [
    "<div dir=\"rtl\">\n",
    "<font size=\"4\">מסקנה:</font>\n",
    "<div dir=\"rtl\">"
   ]
  },
  {
   "cell_type": "markdown",
   "id": "e1d14431-dd57-447c-b2ce-4ce1c900e17d",
   "metadata": {},
   "source": [
    "<div dir=\"rtl\">\n",
    "<font size=\"3\">לאחר שחקרנו את גיל האפס והחלטנו להתמקד בפילוג הגילאים השונים לפי המקובל. </font>\n",
    "<div dir=\"rtl\">\n",
    "<div dir=\"rtl\">\n",
    "<font size=\"3\">גילינו שכמות הנפגעים מהפשעים בעיר הם בעיקר מקבוצת הגיל 25-54.  </font>\n",
    "<div dir=\"rtl\">\n",
    "<div dir=\"rtl\">\n",
    "<font size=\"3\">דבר שהפתיע אותנו כי דווקא ציפינו שגילאי 65 פלוס יהיו יותר קורבנות לפשע. </font>\n",
    "<div dir=\"rtl\">\n",
    "<div dir=\"rtl\">\n",
    "<font size=\"3\">\n",
    "בחרנו להסתכל מהם ארבעת הפשעים הנפוצים ביותר בקרב פילוח הגילאים. </font>\n",
    "<div dir=\"rtl\">\n",
    "<div dir=\"rtl\">\n",
    "<font size=\"3\">בדקנו את שלושת האזורים בהם הפשעים הללו נפוצים ביותר. </font>\n",
    "<div dir=\"rtl\">\n",
    "<div dir=\"rtl\">\n",
    "<font size=\"3.1\">בחנו את שלושת האזורים בנפרד וראינו שקבוצות הגיל חוות פשעים שונים באזורים השונים.</font>\n",
    "<div dir=\"rtl\">"
   ]
  },
  {
   "cell_type": "markdown",
   "id": "91f24da5-dcfa-4e16-9bb0-bff8d2a23ff8",
   "metadata": {},
   "source": [
    "<div>\n",
    "<img src= \"https://github.com/zoesyk/ZoeandNoaProject/blob/main/big-family-group-happy-characters-260nw-446944729.jpg?raw=true\"\n",
    "width=\"800\"/>\n",
    "</div>"
   ]
  },
  {
   "cell_type": "markdown",
   "id": "2785d023-fd26-4113-ad89-c53ee5978717",
   "metadata": {},
   "source": [
    "---"
   ]
  },
  {
   "cell_type": "markdown",
   "id": "ae064a10-833b-4775-818c-e6c3f2c93b8e",
   "metadata": {},
   "source": [
    "### <span style=\"font-size:1.3em;\"><span style=\"background-color:#F0F8FF\">*Observation 2 - Comparison Between Locations*</span></span>"
   ]
  },
  {
   "cell_type": "markdown",
   "id": "39cc8604-d593-44c7-a5f9-1e0fcefd7021",
   "metadata": {},
   "source": [
    "<div dir=\"rtl\">\n",
    "<font size=\"3\">נרצה להשוות בין האזור עם הכי הרבה פשעים לאזור עם הכי פחות פשעים, ולראות מה ההבדלים :</font>\n",
    "<div dir=\"rtl\">"
   ]
  },
  {
   "cell_type": "code",
   "execution_count": null,
   "id": "0550716e-5d84-46c7-aaf8-4261daf2263c",
   "metadata": {},
   "outputs": [],
   "source": [
    "area_counts = crime_df['AREA NAME'].value_counts()\n",
    "sorted_areas = area_counts.index\n",
    "\n",
    "colors = ['#d3d3d3'] * len(sorted_areas)\n",
    "colors[0] = 'red' \n",
    "colors[-1] = 'navy'  \n",
    "\n",
    "plt.figure(figsize=(10, 4))\n",
    "\n",
    "sns.countplot(data=crime_df, x='AREA NAME', order=sorted_areas, palette=colors)\n",
    "\n",
    "plt.xlabel('')\n",
    "\n",
    "plt.title('Area Crime Distribution')\n",
    "\n",
    "plt.xticks(rotation=45)\n",
    "\n",
    "plt.show()"
   ]
  },
  {
   "cell_type": "code",
   "execution_count": null,
   "id": "bba66a1d-eede-42fd-a719-1d0cbb16e8e4",
   "metadata": {},
   "outputs": [],
   "source": [
    "crime_area_order = crime_df.groupby('AREA NAME').size().reset_index(name='count')\n",
    "crime_area_order  = crime_area_order .sort_values(by='count', ascending=False)\n",
    "area_head_crime = crime_area_order['AREA NAME'].head(1).tolist()\n",
    "area_tail_crime = crime_area_order['AREA NAME'].tail(1).tolist()\n",
    "max_min_area = area_head_crime + area_tail_crime\n",
    "max_min_area"
   ]
  },
  {
   "cell_type": "code",
   "execution_count": null,
   "id": "1bbcfcb0-c191-4d71-b4ca-afdb1e6520d1",
   "metadata": {},
   "outputs": [],
   "source": [
    "diff_area =  crime_df[ crime_df['AREA NAME'].isin(max_min_area)]\n",
    "diff_area['AREA NAME'].unique()"
   ]
  },
  {
   "cell_type": "code",
   "execution_count": null,
   "id": "0242b5e0-3f1c-41a5-be56-6ba02f6a1cdb",
   "metadata": {},
   "outputs": [],
   "source": [
    "Area_palette = {'Central': 'red', 'Foothill': 'navy'}\n",
    "\n",
    "plt.figure(figsize=(6, 4))\n",
    "sns.histplot(data=diff_area, x='AREA NAME',hue = 'AREA NAME',palette=Area_palette, stat='percent', multiple='dodge')\n",
    "\n",
    "plt.xticks(rotation=0)\n",
    "plt.xlabel('AREA NAME')\n",
    "plt.ylabel('Percent')\n",
    "plt.title('Distribution by Area')\n",
    "plt.show()"
   ]
  },
  {
   "cell_type": "markdown",
   "id": "713ca1d9-9c85-4ee3-a390-2db6adeadb3f",
   "metadata": {},
   "source": [
    "<div>\n",
    "<img src= \"https://github.com/zoesyk/ZoeandNoaProject/blob/main/%D7%A6%D7%99%D7%9C%D7%95%D7%9D%20%D7%9E%D7%A1%D7%9A%202024-06-24%20171644.png?raw=true\"\n",
    "width=\"800\"/>\n",
    "</div>"
   ]
  },
  {
   "cell_type": "code",
   "execution_count": null,
   "id": "775e4071-bc20-4dde-9b45-7383fce2d9d3",
   "metadata": {},
   "outputs": [],
   "source": [
    "Central_crime= diff_area[diff_area['AREA NAME']=='Central']\n",
    "Foothill_crime= diff_area[diff_area['AREA NAME']=='Foothill']"
   ]
  },
  {
   "cell_type": "code",
   "execution_count": null,
   "id": "c281ce38-fb33-489b-9c3c-df1a01945dad",
   "metadata": {},
   "outputs": [],
   "source": [
    "Central_count=Central_crime['Crm Cd Desc'].value_counts()\n",
    "Central_crime_df= Central_count.reset_index()\n",
    "Central_crime_df.columns = ['Crm Cd Desc', 'Count']\n",
    "Central_crime_filtered = Central_crime_df[Central_crime_df['Count'] > 540]\n",
    "Central_crime_lst = Central_crime_filtered['Crm Cd Desc'].tolist()\n",
    "Central_top_crime = Central_crime[Central_crime['Crm Cd Desc'].isin(Central_crime_lst)]\n",
    "Central_crime_df.head()"
   ]
  },
  {
   "cell_type": "code",
   "execution_count": null,
   "id": "1280adaf-22c4-4379-a81f-83d33cdcbd64",
   "metadata": {},
   "outputs": [],
   "source": [
    "Foothill_count=Foothill_crime['Crm Cd Desc'].value_counts()\n",
    "Foothill_crime_df= Foothill_count.reset_index()\n",
    "Foothill_crime_df.columns = ['Crm Cd Desc', 'Count']\n",
    "Foothill_crime_filtered = Foothill_crime_df[Foothill_crime_df['Count'] > 268]\n",
    "Foothill_crime_lst = Foothill_crime_filtered['Crm Cd Desc'].tolist()\n",
    "Foothill_top_crime = Foothill_crime[Foothill_crime['Crm Cd Desc'].isin(Foothill_crime_lst)]\n",
    "Foothill_crime_df.head()"
   ]
  },
  {
   "cell_type": "code",
   "execution_count": null,
   "id": "6f5f7ff0-fd46-4af4-b88e-ce9e3064168e",
   "metadata": {},
   "outputs": [],
   "source": [
    "combined_top_crime = pd.concat([Foothill_top_crime, Central_top_crime], ignore_index=True)"
   ]
  },
  {
   "cell_type": "code",
   "execution_count": null,
   "id": "6bd8642d-b979-4295-a5a6-805694341ed1",
   "metadata": {},
   "outputs": [],
   "source": [
    "Central_crime_top3 = Central_crime_filtered['Crm Cd Desc'].head(3).tolist()\n",
    "Central_crime_last3 = Central_crime_filtered['Crm Cd Desc'].tail(3).tolist()\n",
    "Foothill_crime_top3 = Foothill_crime_filtered['Crm Cd Desc'].head(3).tolist()\n",
    "Foothill_crime_last3 = Foothill_crime_filtered['Crm Cd Desc'].tail(3).tolist()\n",
    "Central_lst = Central_crime_top3 + Central_crime_last3\n",
    "Foothill_lst = Foothill_crime_top3 + Foothill_crime_last3\n",
    "Central_lst"
   ]
  },
  {
   "cell_type": "code",
   "execution_count": null,
   "id": "f9776aec-36c2-4f56-aaf8-ca2b8459d3c7",
   "metadata": {},
   "outputs": [],
   "source": [
    "# סינון מסגרת הנתונים combined_top_crime\n",
    "Area_comper_crime = combined_top_crime[((combined_top_crime['AREA NAME'] == 'Central') & (combined_top_crime['Crm Cd Desc'].isin(Central_lst))) | ((combined_top_crime['AREA NAME'] == 'Foothill') & (combined_top_crime['Crm Cd Desc'].isin(Foothill_lst)))]\n",
    "Area_comper_crime.head()"
   ]
  },
  {
   "cell_type": "code",
   "execution_count": null,
   "id": "82b556b5-ec74-4c7d-be5c-703cb24cb32a",
   "metadata": {},
   "outputs": [],
   "source": [
    "Crime_map = {'VEHICLE - STOLEN':'Stolen Vehicle','THEFT OF IDENTITY':'Identity Theft','BATTERY - SIMPLE ASSAULT':'Battery-Simple Assault','BRANDISH WEAPON':'Brandish Weapon','VIOLATION OF COURT ORDER':'Violation Of Court Order', 'INTIMATE PARTNER - AGGRAVATED ASSAULT':'Intimate Partner-Assault','BURGLARY FROM VEHICLE':'Vehicle Burglary','VANDALISM - FELONY ($400 & OVER, ALL CHURCH VANDALISMS)':'Vandalism','BIKE - STOLEN':'Stolen Bike','THEFT, PERSON':'Theft'}\n",
    "\n",
    "order = [Crime_map[label] for label in Area_comper_crime['Crm Cd Desc'].value_counts().index]\n",
    "\n",
    "plt.figure(figsize=(8, 4))\n",
    "\n",
    "ax = sns.countplot(data=Area_comper_crime, x='Crm Cd Desc', hue='AREA NAME', palette=Area_palette, order=Area_comper_crime['Crm Cd Desc'].value_counts().index)\n",
    "plt.title('Compering Crime Area')\n",
    "plt.xlabel('')\n",
    "plt.xticks(rotation=35, ha='right')\n",
    "\n",
    "new_labels = [Crime_map.get(label.get_text(), label.get_text()) for label in ax.get_xticklabels()]\n",
    "ax.set_xticklabels(new_labels)\n",
    "\n",
    "plt.show()"
   ]
  },
  {
   "cell_type": "markdown",
   "id": "f2f0b2d0-a802-41a2-8f69-76686c972043",
   "metadata": {},
   "source": [
    "<div dir=\"rtl\">\n",
    "<font size=\"4\">מסקנה:</font>\n",
    "<div dir=\"rtl\">"
   ]
  },
  {
   "cell_type": "markdown",
   "id": "1f9313eb-c2f1-4034-902f-fb65c7266d1b",
   "metadata": {},
   "source": [
    "<div dir=\"rtl\">\n",
    "<font size=\"3\">ניתן לראות שבאזור הפשיעה הגבוה ביותר סוג הפשיעה הנפות ביותר בלוס אנג'לס, שהוא גניבת רכבת הינו מזערי. </font>\n",
    "<div dir=\"rtl\">\n",
    "<div dir=\"rtl\">\n",
    "<font size=\"3\">ניתן לראות שבאזורים השונים, ישנם פשעים שונים.</font>\n",
    "<div dir=\"rtl\">"
   ]
  },
  {
   "cell_type": "markdown",
   "id": "3a0e16a9-c256-42ed-9148-a546706d678e",
   "metadata": {},
   "source": [
    "---"
   ]
  },
  {
   "cell_type": "markdown",
   "id": "947ecf90-22fe-47df-bf27-57ea90e0e736",
   "metadata": {},
   "source": [
    "### <span style=\"font-size:1.3em;\"><span style=\"background-color:#F0F8FF\">*Observation 3 - Holidy Crime Rate*</span></span>"
   ]
  },
  {
   "cell_type": "markdown",
   "id": "7b403b82-f9a4-4229-9a55-0c086048f59c",
   "metadata": {},
   "source": [
    "*USA holidays:*<br>\n",
    "*01/01: New Year's Day*<br>\n",
    "*12/31: New Year's Eve*<br>\n",
    "*07/04: Independence Day*<br>\n",
    "*11/28: Thanksgiving Day*<br>\n",
    "*12/25: Christmas Day*<br>\n",
    "*12/24: Christmas Eve*<br>\n",
    "*10/31: Halloween*<br>"
   ]
  },
  {
   "cell_type": "code",
   "execution_count": null,
   "id": "fd1c591b-feee-49ca-a2c9-ff7084ee9a73",
   "metadata": {},
   "outputs": [],
   "source": [
    "#רשימות של שמות ותאריכי החגים\n",
    "\n",
    "holiday_dates = [\"01/01\",\"12/31\",\"07/04\",\"11/28\",\"12/25\",\"12/24\",\"10/31\"]\n",
    "\n",
    "holiday_dates_dict = {\"01/01\": \"New Year's Day\",\"12/31\": \"New Year's Eve\",\"07/04\": \"Independence Day\",\"11/28\": \"Thanksgiving Day\",\"12/25\": \"Christmas Day\",\"12/24\": \"Christmas Eve\",\"10/31\": \"Halloween\"}\n"
   ]
  },
  {
   "cell_type": "code",
   "execution_count": null,
   "id": "43b85b87-d048-4008-99d4-3c9caa15d8cc",
   "metadata": {},
   "outputs": [],
   "source": [
    "#עשינו קובץ חדש עם הפשעים המרכזיים אשר התאריכים בו הם רק של החגים\n",
    "\n",
    "crime_df['DATE'] =crime_df['DATE OCC']\n",
    "\n",
    "crime_df['DATE'] = pd.to_datetime(crime_df['DATE'], errors='coerce' )\n",
    "\n",
    "crime_df['DATE'] = pd.DatetimeIndex(crime_df['DATE']).strftime('%m/%d/%y')\n",
    "\n",
    "crime_df['DATE_M_D'] =crime_df['DATE'].apply(lambda x: x[:5])\n",
    "\n",
    "crime_on_holiday = crime_df[crime_df['DATE_M_D'].isin(holiday_dates)]"
   ]
  },
  {
   "cell_type": "code",
   "execution_count": null,
   "id": "2c99d456-98a4-4a77-83ad-cf9e6cf34ad5",
   "metadata": {},
   "outputs": [],
   "source": [
    "#ניצור עמודה עם השמות של החגים\n",
    "crime_on_holiday['Holiday_name'] = crime_on_holiday['DATE_M_D']\n",
    "\n",
    "crime_on_holiday.replace({'Holiday_name':{\"01/01\": \"New Year's Day\",\"12/31\": \"New Year's Eve\",\"07/04\": \"Independence Day\",\"11/28\": \"Thanksgiving Day\",\"12/25\": \"Christmas Day\",\"12/24\": \"Christmas Eve\",\"10/31\": \"Halloween\"}}, inplace = True)\n",
    "crime_on_holiday[['DATE','Holiday_name']].head()"
   ]
  },
  {
   "cell_type": "code",
   "execution_count": null,
   "id": "b25d0d12-e136-441c-a2f0-0da89fbb97ea",
   "metadata": {},
   "outputs": [],
   "source": [
    "crime_on_holiday['Holiday_name'].unique()"
   ]
  },
  {
   "cell_type": "code",
   "execution_count": null,
   "id": "9a26e158-6a6e-4efb-8174-21db07a48651",
   "metadata": {},
   "outputs": [],
   "source": [
    "holiday_order = [\"Independence Day\", \"Halloween\", \"Thanksgiving Day\", \"Christmas Eve\", \"Christmas Day\", \"New Year's Eve\", \"New Year's Day\"]\n",
    "order = crime_on_holiday['Holiday_name'].value_counts().index\n",
    "\n",
    "plt.figure(figsize=(8, 4))\n",
    "sns.countplot(data=crime_on_holiday, x='Holiday_name', order=order, palette='Set3')\n",
    "plt.xticks(rotation=30)\n",
    "plt.xlabel('') \n",
    "plt.title('Crime Rate On Holidays') \n",
    "plt.show()"
   ]
  },
  {
   "cell_type": "markdown",
   "id": "c1ff4c65-16af-4425-ab2c-5cc4ce7c267e",
   "metadata": {},
   "source": [
    "<div dir=\"rtl\">\n",
    "<font size=\"3\">ניתן לראות כי בחג New Year's Day כמות הפשעים היא הגבוה ביותר ובחג Christmas Day הפשיעה היא הנמוכה ביותר.\n",
    "</font>"
   ]
  },
  {
   "cell_type": "markdown",
   "id": "e13e17be-82d6-4d3b-b72e-39cd8dc9a791",
   "metadata": {},
   "source": [
    "<div>\n",
    "<img src= \"https://github.com/zoesyk/ZoeandNoaProject/blob/main/happy-new-year-2021-clock-260nw-1891465972.jpg?raw=true\"\n",
    "width=\"800\"/>\n",
    "</div>"
   ]
  },
  {
   "cell_type": "code",
   "execution_count": null,
   "id": "62743a5a-445b-43e6-9ffe-083c30da33cc",
   "metadata": {},
   "outputs": [],
   "source": [
    "New_Year_Day = crime_on_holiday[crime_on_holiday['Holiday_name']== \"New Year's Day\"]\n",
    "New_Year_Day_count=New_Year_Day['Crm Cd Desc'].value_counts()\n",
    "New_Year_Day_count_order= New_Year_Day_count.reset_index()\n",
    "New_Year_Day_count_order.columns = ['Crm Cd Desc', 'Count']\n",
    "New_Year_Day_crime_list = New_Year_Day_count_order['Crm Cd Desc'].head(5).tolist()\n",
    "top_New_Year_Day_crime = crime_on_holiday[crime_on_holiday['Crm Cd Desc'].isin(New_Year_Day_crime_list)]\n",
    "new_year_day_label = {'THEFT OF IDENTITY':'Identity Theft','INTIMATE PARTNER - SIMPLE ASSAULT':'Intimate Partner-Assault','BATTERY - SIMPLE ASSAULT':'Battery-Simple Assault','VEHICLE - STOLEN':'Stolen Vehicle','VANDALISM - FELONY ($400 & OVER, ALL CHURCH VANDALISMS)':'Vandalism'}\n",
    "\n",
    "order = top_New_Year_Day_crime['Crm Cd Desc'].value_counts().index\n",
    "\n",
    "plt.figure(figsize=(8, 4))\n",
    "ax = sns.countplot(data=top_New_Year_Day_crime, x='Crm Cd Desc', order=order, palette='muted')\n",
    "\n",
    "new_labels = [new_year_day_label.get(item, item) for item in order]\n",
    "ax.set_xticklabels(new_labels, rotation=25)\n",
    "plt.xlabel('') \n",
    "plt.show()"
   ]
  },
  {
   "cell_type": "code",
   "execution_count": null,
   "id": "60b0b91a-4ac7-470a-8170-5233fb5ff3f8",
   "metadata": {},
   "outputs": [],
   "source": [
    "crime_on_holiday['TIME OCC'] = crime_on_holiday['TIME OCC'].astype(str)\n",
    "\n",
    "def pad_time(time_str):\n",
    "    if len(time_str) == 4:\n",
    "        return time_str\n",
    "    elif len(time_str) == 3:\n",
    "        return \"0\" + time_str\n",
    "    elif len(time_str) == 2:\n",
    "        return \"00\" + time_str\n",
    "    elif len(time_str) == 1:\n",
    "        return \"000\" + time_str\n",
    "    else:\n",
    "        return \"0000\"\n",
    "\n",
    "crime_on_holiday['TIME OCC_str'] = crime_on_holiday['TIME OCC'].apply(pad_time)\n"
   ]
  },
  {
   "cell_type": "code",
   "execution_count": null,
   "id": "4686cd8b-2ab9-45f8-97ac-d1d0d178667d",
   "metadata": {},
   "outputs": [],
   "source": [
    "crime_on_holiday['TIME OCC_time'] = pd.to_datetime(crime_on_holiday['TIME OCC_str'], format='%H%M').dt.time\n",
    "crime_on_holiday['TIME OCC_time'].head()"
   ]
  },
  {
   "cell_type": "code",
   "execution_count": null,
   "id": "d6d6b1cb-e8c3-46cf-a7c4-280dd9527b4b",
   "metadata": {},
   "outputs": [],
   "source": [
    "crime_on_holiday['TIME OCC_time_str'] = crime_on_holiday['TIME OCC_time'].apply(lambda x: x.strftime('%H:%M'))\n",
    "crime_on_holiday['TIME OCC_time_str'].head()"
   ]
  },
  {
   "cell_type": "code",
   "execution_count": null,
   "id": "a8b956e0-a01d-4c14-88de-0ed76fec4d3c",
   "metadata": {},
   "outputs": [],
   "source": [
    "def categorize_time(time):\n",
    "    if time >= pd.to_datetime(\"06:00:00\").time() and time < pd.to_datetime(\"12:00:00\").time():\n",
    "        return 'Morning'\n",
    "    elif time >= pd.to_datetime(\"12:00:00\").time() and time < pd.to_datetime(\"16:00:00\").time():\n",
    "        return 'Noon'\n",
    "    elif time >= pd.to_datetime(\"16:00:00\").time() and time < pd.to_datetime(\"18:00:00\").time():\n",
    "        return 'Afternoon'\n",
    "    elif time >= pd.to_datetime(\"18:00:00\").time() and time <= pd.to_datetime(\"23:59:59\").time():\n",
    "        return 'Evening'\n",
    "    else:\n",
    "        return 'night'"
   ]
  },
  {
   "cell_type": "code",
   "execution_count": null,
   "id": "b898ef5e-8879-4ea6-915d-3c12ad611799",
   "metadata": {},
   "outputs": [],
   "source": [
    "crime_on_holiday['TIME OCC_period'] = crime_on_holiday['TIME OCC_time'].apply(categorize_time)\n",
    "crime_on_holiday['TIME OCC_period'].head()"
   ]
  },
  {
   "cell_type": "code",
   "execution_count": null,
   "id": "a1556a71-297f-4d1d-b3ff-52949e00cd97",
   "metadata": {},
   "outputs": [],
   "source": [
    "crime_on_holiday['TIME OCC_period'].unique()"
   ]
  },
  {
   "cell_type": "code",
   "execution_count": null,
   "id": "a7a06bac-e01c-40d6-ae27-a9fba8af31dd",
   "metadata": {},
   "outputs": [],
   "source": [
    "pivot_table = pd.crosstab(crime_on_holiday['Holiday_name'], crime_on_holiday['TIME OCC_period'])\n",
    "\n",
    "print(pivot_table)\n",
    "\n",
    "max_val = pivot_table.max().max()\n",
    "min_val = pivot_table.min().min()\n",
    "max_pos = pivot_table.stack().idxmax()\n",
    "min_pos = pivot_table.stack().idxmin()\n",
    "\n",
    "max_x, max_y = pivot_table.columns.get_loc(max_pos[1]), pivot_table.index.get_loc(max_pos[0])\n",
    "min_x, min_y = pivot_table.columns.get_loc(min_pos[1]), pivot_table.index.get_loc(min_pos[0])\n"
   ]
  },
  {
   "cell_type": "code",
   "execution_count": null,
   "id": "a3ce6858-66b9-4263-94f1-afbc4c668af3",
   "metadata": {},
   "outputs": [],
   "source": [
    "plt.figure(figsize=(12, 6))\n",
    "sns.heatmap(pivot_table, annot=True, fmt=\"d\", cmap=\"YlGnBu\")\n",
    "plt.title('Correlation between Holidays and Time of Occurrence')\n",
    "plt.xlabel('Time of Occurrence')\n",
    "plt.ylabel('Holiday Name')\n",
    "plt.xticks(rotation=45)\n",
    "\n",
    "plt.text(max_x + 0.5, max_y + 0.5, f\"{max_val}\",\n",
    "         ha='center', va='center', color='white', fontsize=10,\n",
    "         bbox=dict(boxstyle='circle,pad=0.7', edgecolor='white', facecolor='none', linewidth=2))\n",
    "\n",
    "plt.text(min_x + 0.5, min_y + 0.5, f\"{min_val}\",\n",
    "         ha='center', va='center', color='#4682B4', fontsize=10,\n",
    "         bbox=dict(boxstyle='circle,pad=0.9', edgecolor='#4682B4', facecolor='none', linewidth=2))\n",
    "\n",
    "plt.show()"
   ]
  },
  {
   "cell_type": "markdown",
   "id": "724ef3c1-60e6-43c3-9ef8-33904ca437d1",
   "metadata": {},
   "source": [
    "<div dir=\"rtl\">\n",
    "<font size=\"4\">מסקנה:</font>\n",
    "<div dir=\"rtl\">"
   ]
  },
  {
   "cell_type": "markdown",
   "id": "67c126fe-966f-4dca-ac1a-8f6d7836572a",
   "metadata": {},
   "source": [
    "<div dir=\"rtl\">\n",
    "<font size=\"3\">בחג New Year's Day בשעות הלילה 00:00 עד 06:00 הפשיעה היא הגבוהה ביותר.\n",
    "</font>\n",
    "<div dir=\"rtl\">\n",
    "<font size=\"3\">בחג Christmas Day הפשיעה היא הנמוכה ביותר בשעות אחר הצהריים בשעות 16:00 עד 18:00.\n",
    "</font>"
   ]
  },
  {
   "cell_type": "markdown",
   "id": "ba53119a-d801-42b4-81b1-8c461b49ed98",
   "metadata": {},
   "source": [
    "---"
   ]
  }
 ],
 "metadata": {
  "kernelspec": {
   "display_name": "Python 3 (ipykernel)",
   "language": "python",
   "name": "python3"
  },
  "language_info": {
   "codemirror_mode": {
    "name": "ipython",
    "version": 3
   },
   "file_extension": ".py",
   "mimetype": "text/x-python",
   "name": "python",
   "nbconvert_exporter": "python",
   "pygments_lexer": "ipython3",
   "version": "3.12.1"
  }
 },
 "nbformat": 4,
 "nbformat_minor": 5
}
